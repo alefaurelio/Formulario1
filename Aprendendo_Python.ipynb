{
  "nbformat": 4,
  "nbformat_minor": 0,
  "metadata": {
    "colab": {
      "provenance": [],
      "authorship_tag": "ABX9TyNUmsrjdkUqUvMXPF8f1XI4",
      "include_colab_link": true
    },
    "kernelspec": {
      "name": "python3",
      "display_name": "Python 3"
    },
    "language_info": {
      "name": "python"
    }
  },
  "cells": [
    {
      "cell_type": "markdown",
      "metadata": {
        "id": "view-in-github",
        "colab_type": "text"
      },
      "source": [
        "<a href=\"https://colab.research.google.com/github/alefaurelio/Formulario1/blob/main/Aprendendo_Python.ipynb\" target=\"_parent\"><img src=\"https://colab.research.google.com/assets/colab-badge.svg\" alt=\"Open In Colab\"/></a>"
      ]
    },
    {
      "cell_type": "code",
      "execution_count": 35,
      "metadata": {
        "colab": {
          "base_uri": "https://localhost:8080/"
        },
        "id": "4FWoefPAWZYO",
        "outputId": "4f575ba1-3ab7-4d19-d331-5ee4fae6c70b"
      },
      "outputs": [
        {
          "output_type": "stream",
          "name": "stdout",
          "text": [
            "Olá, Mundo!\n",
            "Olá, Álef!\n",
            "8\n",
            "64\n",
            "10\n",
            "20\n",
            "20\n",
            "Olá, Álef!\n"
          ]
        }
      ],
      "source": [
        "def saudacao():\n",
        "  print(\"Olá, Mundo!\")\n",
        "saudacao()\n",
        "\n",
        "def saudacao(nome):\n",
        "    print(f\"Olá, {nome}!\")\n",
        "saudacao(\"Álef\")\n",
        "\n",
        "def soma(a,b):\n",
        "    return a+b\n",
        "\n",
        "resultado=soma(3,5)\n",
        "print(resultado)\n",
        "\n",
        "#CRIANDO FUNÇÕES ANÔNIMAS (FUNÇÕES SEM NOME DEFINIDO), COMO POR EXEMPLO QUADRADO DE X:\n",
        "\n",
        "quadrado = lambda x: x**2\n",
        "print(quadrado(8))\n",
        "\n",
        "#VARIÁVEL LOCAL VS VARIÁVEL GLOBAL:\n",
        "def funcao():\n",
        "    variavel_local = 10\n",
        "    print(variavel_local)  # Acessível dentro da função\n",
        "\n",
        "\n",
        "variavel_global = 20\n",
        "\n",
        "\n",
        "def funcao2():\n",
        "    print(variavel_global)  # Acessível de qualquer lugar\n",
        "\n",
        "\n",
        "funcao()  # Imprime 10\n",
        "funcao2()  # Imprime 20\n",
        "print(variavel_global)  # Imprime 20\n",
        "\n",
        "saudacao(nome) #Este foi um exemplo na prática de um erro com variável local.\n",
        "\n",
        "#Agora vou chamar novamente a função após definir o nome como \"Álef\"\n",
        "nome=(\"Álef\")\n",
        "saudacao(nome) #Agora deu certo!\n"
      ]
    },
    {
      "cell_type": "code",
      "source": [],
      "metadata": {
        "id": "u0Gmn5FFfg5P"
      },
      "execution_count": null,
      "outputs": []
    }
  ]
}